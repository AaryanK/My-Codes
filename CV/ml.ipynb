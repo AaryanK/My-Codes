{
 "cells": [
  {
   "cell_type": "code",
   "execution_count": 1,
   "metadata": {},
   "outputs": [],
   "source": [
    "import pandas as pd\n",
    "import numpy as np\n",
    "from sklearn.utils import shuffle\n",
    "from sklearn import linear_model\n",
    "import sklearn\n",
    "import matplotlib.pyplot as pyplot\n",
    "import pickle\n",
    "from matplotlib import style\n"
   ]
  },
  {
   "cell_type": "code",
   "execution_count": 7,
   "metadata": {},
   "outputs": [
    {
     "name": "stdout",
     "output_type": "stream",
     "text": [
      "     G1  G2  G3  studytime  failures  absences\n",
      "0     5   6   6          2         0         6\n",
      "1     5   5   6          2         0         4\n",
      "2     7   8  10          2         3        10\n",
      "3    15  14  15          3         0         2\n",
      "4     6  10  10          2         0         4\n",
      "..   ..  ..  ..        ...       ...       ...\n",
      "390   9   9   9          2         2        11\n",
      "391  14  16  16          1         0         3\n",
      "392  10   8   7          1         3         3\n",
      "393  11  12  10          1         0         0\n",
      "394   8   9   9          1         0         5\n",
      "\n",
      "[395 rows x 6 columns]\n"
     ]
    }
   ],
   "source": [
    "df = pd.read_csv('student-mat.csv',sep=';')\n",
    "df = df[['G1','G2','G3','studytime','failures','absences']]\n",
    "print (df)"
   ]
  },
  {
   "cell_type": "code",
   "execution_count": 9,
   "metadata": {},
   "outputs": [],
   "source": [
    "predict = 'G3'\n",
    "X = np.array(df.drop([predict],1))\n",
    "y = np.array(df[predict])"
   ]
  },
  {
   "cell_type": "code",
   "execution_count": 27,
   "metadata": {},
   "outputs": [
    {
     "name": "stdout",
     "output_type": "stream",
     "text": [
      "0.9112301666778168\n",
      "predicted :  13.76413578167978 actual :  15\n",
      "predicted :  8.282152277243476 actual :  9\n",
      "predicted :  8.969063481346884 actual :  10\n",
      "predicted :  4.755545756349853 actual :  5\n",
      "predicted :  18.535120670787038 actual :  18\n",
      "predicted :  14.907804847687446 actual :  15\n",
      "predicted :  15.68294407476755 actual :  16\n",
      "predicted :  2.7485094402853836 actual :  0\n",
      "predicted :  9.36591556360251 actual :  10\n",
      "predicted :  11.6987837409695 actual :  9\n",
      "predicted :  14.309121666560733 actual :  14\n",
      "predicted :  10.938020248186366 actual :  11\n",
      "predicted :  9.51404936622784 actual :  10\n",
      "predicted :  7.270651224561346 actual :  11\n",
      "predicted :  10.083122662334427 actual :  10\n",
      "predicted :  6.862416227387376 actual :  8\n",
      "predicted :  15.080026061538407 actual :  15\n",
      "predicted :  8.595011168624836 actual :  10\n",
      "predicted :  13.892417005181903 actual :  14\n",
      "predicted :  8.03638118802355 actual :  9\n",
      "predicted :  12.880915952499773 actual :  13\n",
      "predicted :  20.119929851678187 actual :  19\n",
      "predicted :  12.266615024352287 actual :  12\n",
      "predicted :  16.371828930171397 actual :  16\n",
      "predicted :  6.694144215960328 actual :  8\n",
      "predicted :  11.15644263318816 actual :  12\n",
      "predicted :  11.737246886492107 actual :  11\n",
      "predicted :  9.715802796256806 actual :  11\n",
      "predicted :  10.73427791061534 actual :  10\n",
      "predicted :  9.449908754476777 actual :  10\n",
      "predicted :  -0.8453740203942036 actual :  0\n",
      "predicted :  10.421356606633479 actual :  11\n",
      "predicted :  15.452964753707905 actual :  16\n",
      "predicted :  7.842048114070424 actual :  8\n",
      "predicted :  14.996032870664143 actual :  15\n",
      "predicted :  8.282152277243476 actual :  10\n",
      "predicted :  12.22250101286394 actual :  13\n",
      "predicted :  16.20790335938579 actual :  16\n",
      "predicted :  8.370380300220173 actual :  9\n",
      "predicted :  6.367578816258135 actual :  9\n"
     ]
    }
   ],
   "source": [
    "x_train,x_test,y_train,y_test=sklearn.model_selection.train_test_split(X,y,test_size=0.1)\n",
    "linear = linear_model.LinearRegression()\n",
    "linear.fit(x_train,y_train)\n",
    "accuracy = linear.score(x_test,y_test)\n",
    "predictions = linear.predict(x_test)\n",
    "print(accuracy)\n",
    "for i in range(len(predictions)):\n",
    "    print('predicted : ',predictions[i], 'actual : ',y_test[i])"
   ]
  },
  {
   "cell_type": "code",
   "execution_count": 30,
   "metadata": {},
   "outputs": [
    {
     "data": {
      "image/png": "[encoded data removed]",
      "text/plain": [
       "<Figure size 432x288 with 1 Axes>"
      ]
     },
     "metadata": {},
     "output_type": "display_data"
    }
   ],
   "source": [
    "p = \"G1\"\n",
    "style.use('ggplot')\n",
    "pyplot.scatter(df[p],df['G3'])\n",
    "pyplot.xlabel(p)\n",
    "pyplot.ylabel(\"Final grades\")\n",
    "pyplot.show()"
   ]
  },
  {
   "cell_type": "code",
   "execution_count": null,
   "metadata": {},
   "outputs": [],
   "source": []
  }
 ],
 "metadata": {
  "kernelspec": {
   "display_name": "Python 3",
   "language": "python",
   "name": "python3"
  },
  "language_info": {
   "codemirror_mode": {
    "name": "ipython",
    "version": 3
   },
   "file_extension": ".py",
   "mimetype": "text/x-python",
   "name": "python",
   "nbconvert_exporter": "python",
   "pygments_lexer": "ipython3",
   "version": "3.8.3"
  }
 },
 "nbformat": 4,
 "nbformat_minor": 4
}
